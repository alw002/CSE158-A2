{
 "cells": [
  {
   "cell_type": "code",
   "execution_count": null,
   "id": "010ba571-27cb-4a7e-aa42-98cfe94105a9",
   "metadata": {},
   "outputs": [],
   "source": [
    "import gzip\n",
    "import string\n",
    "import pandas as pd\n",
    "import numpy as np\n",
    "from collections import defaultdict\n",
    "from IPython.display import clear_output\n",
    "import matplotlib.pyplot as plt"
   ]
  },
  {
   "cell_type": "code",
   "execution_count": null,
   "id": "ba5a8b3d-2820-4877-aa20-124b8f53b0d4",
   "metadata": {},
   "outputs": [],
   "source": [
    "def readGz(path):\n",
    "  g = gzip.open(path, 'r')\n",
    "  for l in g:\n",
    "    yield eval(l)"
   ]
  },
  {
   "cell_type": "code",
   "execution_count": null,
   "id": "d8f6e5ac-fbe0-491d-a08d-a707b9512699",
   "metadata": {},
   "outputs": [],
   "source": [
    "userItems = []\n",
    "\n",
    "for d in readGz(\"australian_users_items.json.gz\"):\n",
    "    userItems.append(d)\n"
   ]
  },
  {
   "cell_type": "code",
   "execution_count": null,
   "id": "a72b18b2-e439-4cb0-abc4-0c071b23d61c",
   "metadata": {},
   "outputs": [],
   "source": [
    "features = []\n",
    "for d in userItems:\n",
    "    for i in d['items']:\n",
    "        features.append((d['user_id'], i['item_name'], i['playtime_forever']))"
   ]
  },
  {
   "cell_type": "code",
   "execution_count": null,
   "id": "4ba31f2c-4a70-4f31-940e-3d09cb6ca271",
   "metadata": {},
   "outputs": [],
   "source": [
    "itemsPerUser = defaultdict(set)\n",
    "usersPerItem = defaultdict(set)\n",
    "\n",
    "for f in features:\n",
    "    u = f[0]\n",
    "    i = f[1]\n",
    "    t = f[2]\n",
    "    if t > 0:\n",
    "        itemsPerUser[u].add(i)\n",
    "        usersPerItem[i].add(u)"
   ]
  },
  {
   "cell_type": "code",
   "execution_count": null,
   "id": "f66108ad-3fc7-4ff6-90c1-4aadb9fb1336",
   "metadata": {},
   "outputs": [],
   "source": [
    "df = pd.DataFrame(features, columns = ['User', 'Game', 'Playtime(min)'])\n",
    "df = df.reset_index(drop=True)\n",
    "df['Played'] = df['Playtime(min)'] > 0\n",
    "df = df.drop('Playtime(min)', axis=1)\n",
    "df.head(10)"
   ]
  },
  {
   "cell_type": "code",
   "execution_count": null,
   "id": "6486daad-f156-4f72-9894-0525c457d805",
   "metadata": {},
   "outputs": [],
   "source": [
    "len(df)"
   ]
  },
  {
   "cell_type": "code",
   "execution_count": null,
   "id": "0738af97-a616-4567-aea7-302b3f6d30a6",
   "metadata": {},
   "outputs": [],
   "source": [
    "#Train-validation split\n",
    "train = df.iloc[:200000]\n",
    "validation = df.iloc[200000:300000]"
   ]
  },
  {
   "cell_type": "code",
   "execution_count": null,
   "id": "3107bff2-d5cb-44b1-9698-501ceace7aeb",
   "metadata": {},
   "outputs": [],
   "source": [
    "    gameCount = defaultdict(int)\n",
    "    totalPlayed = 0\n",
    "\n",
    "    for x in train.itertuples():\n",
    "        gameCount[x.Game] += 1\n",
    "        totalPlayed += 1\n",
    "\n",
    "    mostPopular = [(gameCount[x], x) for x in gameCount]\n",
    "    mostPopular.sort()\n",
    "    mostPopular.reverse()"
   ]
  },
  {
   "cell_type": "code",
   "execution_count": null,
   "id": "a39f19a3-0e65-4791-aa56-108bdfb33584",
   "metadata": {},
   "outputs": [],
   "source": [
    "def baseline(train, valid, t=1.5):\n",
    "    return1 = set()\n",
    "    count = 0\n",
    "    for ic, i in mostPopular:\n",
    "        count += ic\n",
    "        return1.add(i)\n",
    "        if count > totalPlayed * t: break\n",
    "        \n",
    "    pred = []\n",
    "    for x in valid.itertuples():\n",
    "        if (x.Game in return1):\n",
    "            pred.append(True)\n",
    "        else:\n",
    "            pred.append(False)\n",
    "    valid['predB'] = pred\n",
    "    accuracy = (valid.predB == valid['Played']).sum()/len(valid['Played'])\n",
    "    return accuracy"
   ]
  },
  {
   "cell_type": "code",
   "execution_count": null,
   "id": "6703a96c-b59f-44ea-8201-9786bce87ada",
   "metadata": {},
   "outputs": [],
   "source": [
    "baseline(train, validation, 0.6)"
   ]
  },
  {
   "cell_type": "code",
   "execution_count": null,
   "id": "594d25ce-b12f-4b05-b5af-d82ea3abba67",
   "metadata": {},
   "outputs": [],
   "source": [
    "X = [i/100 for i in range(50,105) ]\n",
    "y = []\n",
    "best_acc = 0\n",
    "for t in range(50,105):\n",
    "    acc = baseline(train,validation, (t / 100))\n",
    "    y.append(acc)\n",
    "    if acc > best_acc:\n",
    "        best_acc = acc\n",
    "        best_t = t\n",
    "\n",
    "plt.plot(X,y)\n",
    "print('Best Threshold:', best_t/100)\n",
    "print('Best Accuracy:', best_acc)\n",
    "plt.xlabel('Threshold')\n",
    "plt.ylabel('Accuracy')\n",
    "plt.title('Threshold VS Accuracy')\n",
    "plt.show()"
   ]
  },
  {
   "cell_type": "code",
   "execution_count": null,
   "id": "30af0412-8f5d-4ae5-a837-ed67b018163c",
   "metadata": {},
   "outputs": [],
   "source": [
    "def Jaccard(s1, s2):\n",
    "    numer = len(s1.intersection(s2))\n",
    "    denom = len(s1.union(s2))\n",
    "    if denom == 0:\n",
    "        return 0\n",
    "    return numer / denom"
   ]
  },
  {
   "cell_type": "code",
   "execution_count": null,
   "id": "ee3f000b-753f-4347-b952-47c8eba22604",
   "metadata": {},
   "outputs": [],
   "source": [
    "def jac_pred(train, valid, t=0.05, t2 = 0.8):\n",
    "    itemsPerUserTrain = defaultdict(set)\n",
    "    usersPeritemTrain = defaultdict(set)\n",
    "\n",
    "    for x in train.itertuples():\n",
    "        if x.Played:\n",
    "            itemsPerUserTrain[x.User].add(x.Game)\n",
    "            usersPeritemTrain[x.Game].add(x.User)\n",
    "\n",
    "    pred = []\n",
    "    return1 = set()\n",
    "    count = 0\n",
    "    for ic, i in mostPopular:\n",
    "        count += ic\n",
    "        return1.add(i)\n",
    "        if count > totalPlayed * t2: break\n",
    "\n",
    "    for x in valid.itertuples():\n",
    "        maxJacc = 0\n",
    "        \n",
    "        # finding max jacc sim based on users\n",
    "        for game in itemsPerUser[x.User]:\n",
    "            if x.Game == game:\n",
    "                continue\n",
    "            jacc = Jaccard(usersPeritemTrain[x.Game], usersPeritemTrain[game])\n",
    "            if jacc > maxJacc:\n",
    "                maxJacc = jacc\n",
    "                if jacc > t:\n",
    "                    break\n",
    "                    \n",
    "        if ((maxJacc > t) and (x.Game in return1)):\n",
    "            pred.append(True)\n",
    "        else:\n",
    "            pred.append(False)\n",
    "    valid['predJ'] = pred\n",
    "    return (valid.predJ == valid.Played).sum()/len(valid.Played)"
   ]
  },
  {
   "cell_type": "code",
   "execution_count": null,
   "id": "402bb9eb-99ba-487a-b965-d2b7bf888d5a",
   "metadata": {},
   "outputs": [],
   "source": [
    "jac_pred(train,validation)"
   ]
  },
  {
   "cell_type": "code",
   "execution_count": null,
   "id": "6c131642-36dd-47c8-9673-9db8f8bb677e",
   "metadata": {},
   "outputs": [],
   "source": [
    "def Euclidean(s1,s2):\n",
    "    return len(s1.union(s2)) - len(s1.intersection(s2))"
   ]
  },
  {
   "cell_type": "code",
   "execution_count": null,
   "id": "be88423f-3e54-4ced-8a1a-453fd7d41efb",
   "metadata": {},
   "outputs": [],
   "source": []
  }
 ],
 "metadata": {
  "kernelspec": {
   "display_name": "Python 3 (ipykernel)",
   "language": "python",
   "name": "python3"
  },
  "language_info": {
   "codemirror_mode": {
    "name": "ipython",
    "version": 3
   },
   "file_extension": ".py",
   "mimetype": "text/x-python",
   "name": "python",
   "nbconvert_exporter": "python",
   "pygments_lexer": "ipython3",
   "version": "3.9.12"
  }
 },
 "nbformat": 4,
 "nbformat_minor": 5
}
