{
 "cells": [
  {
   "cell_type": "code",
   "execution_count": 1,
   "id": "010ba571-27cb-4a7e-aa42-98cfe94105a9",
   "metadata": {},
   "outputs": [],
   "source": [
    "import gzip\n",
    "import string\n",
    "import math\n",
    "import pandas as pd\n",
    "import random\n",
    "import numpy as np\n",
    "from collections import defaultdict\n",
    "from IPython.display import clear_output\n",
    "import matplotlib.pyplot as plt"
   ]
  },
  {
   "cell_type": "code",
   "execution_count": null,
   "id": "8f4a899b-66e7-4f4c-9f17-6e92e649a166",
   "metadata": {},
   "outputs": [],
   "source": []
  },
  {
   "cell_type": "code",
   "execution_count": 2,
   "id": "ba5a8b3d-2820-4877-aa20-124b8f53b0d4",
   "metadata": {},
   "outputs": [],
   "source": [
    "def readGz(path):\n",
    "  g = gzip.open(path, 'r')\n",
    "  for l in g:\n",
    "    yield eval(l)"
   ]
  },
  {
   "cell_type": "code",
   "execution_count": 3,
   "id": "d8f6e5ac-fbe0-491d-a08d-a707b9512699",
   "metadata": {},
   "outputs": [],
   "source": [
    "userItems = []\n",
    "\n",
    "for d in readGz(\"australian_users_items.json.gz\"):\n",
    "    userItems.append(d)\n"
   ]
  },
  {
   "cell_type": "code",
   "execution_count": 4,
   "id": "a72b18b2-e439-4cb0-abc4-0c071b23d61c",
   "metadata": {},
   "outputs": [],
   "source": [
    "features = []\n",
    "for d in userItems:\n",
    "    for i in d['items']:\n",
    "        features.append((d['user_id'], i['item_name'], i['playtime_forever']))"
   ]
  },
  {
   "cell_type": "code",
   "execution_count": 5,
   "id": "e936641e-9da0-4e6a-a075-59a3d4980a69",
   "metadata": {},
   "outputs": [
    {
     "data": {
      "text/plain": [
       "5153209"
      ]
     },
     "execution_count": 5,
     "metadata": {},
     "output_type": "execute_result"
    }
   ],
   "source": [
    "len(features)"
   ]
  },
  {
   "cell_type": "code",
   "execution_count": 6,
   "id": "4ba31f2c-4a70-4f31-940e-3d09cb6ca271",
   "metadata": {},
   "outputs": [],
   "source": [
    "itemsPerUser = defaultdict(set)\n",
    "usersPerItem = defaultdict(set)\n",
    "\n",
    "for f in features:\n",
    "    u = f[0]\n",
    "    i = f[1]\n",
    "    t = f[2]\n",
    "    if t > 0:\n",
    "        itemsPerUser[u].add(i)\n",
    "        usersPerItem[i].add(u)"
   ]
  },
  {
   "cell_type": "code",
   "execution_count": 7,
   "id": "f66108ad-3fc7-4ff6-90c1-4aadb9fb1336",
   "metadata": {},
   "outputs": [
    {
     "data": {
      "text/html": [
       "<div>\n",
       "<style scoped>\n",
       "    .dataframe tbody tr th:only-of-type {\n",
       "        vertical-align: middle;\n",
       "    }\n",
       "\n",
       "    .dataframe tbody tr th {\n",
       "        vertical-align: top;\n",
       "    }\n",
       "\n",
       "    .dataframe thead th {\n",
       "        text-align: right;\n",
       "    }\n",
       "</style>\n",
       "<table border=\"1\" class=\"dataframe\">\n",
       "  <thead>\n",
       "    <tr style=\"text-align: right;\">\n",
       "      <th></th>\n",
       "      <th>User</th>\n",
       "      <th>Game</th>\n",
       "      <th>Played</th>\n",
       "    </tr>\n",
       "  </thead>\n",
       "  <tbody>\n",
       "    <tr>\n",
       "      <th>0</th>\n",
       "      <td>76561197970982479</td>\n",
       "      <td>Counter-Strike</td>\n",
       "      <td>True</td>\n",
       "    </tr>\n",
       "    <tr>\n",
       "      <th>1</th>\n",
       "      <td>76561197970982479</td>\n",
       "      <td>Team Fortress Classic</td>\n",
       "      <td>False</td>\n",
       "    </tr>\n",
       "    <tr>\n",
       "      <th>2</th>\n",
       "      <td>76561197970982479</td>\n",
       "      <td>Day of Defeat</td>\n",
       "      <td>True</td>\n",
       "    </tr>\n",
       "    <tr>\n",
       "      <th>3</th>\n",
       "      <td>76561197970982479</td>\n",
       "      <td>Deathmatch Classic</td>\n",
       "      <td>False</td>\n",
       "    </tr>\n",
       "    <tr>\n",
       "      <th>4</th>\n",
       "      <td>76561197970982479</td>\n",
       "      <td>Half-Life: Opposing Force</td>\n",
       "      <td>False</td>\n",
       "    </tr>\n",
       "    <tr>\n",
       "      <th>5</th>\n",
       "      <td>76561197970982479</td>\n",
       "      <td>Ricochet</td>\n",
       "      <td>False</td>\n",
       "    </tr>\n",
       "    <tr>\n",
       "      <th>6</th>\n",
       "      <td>76561197970982479</td>\n",
       "      <td>Half-Life</td>\n",
       "      <td>False</td>\n",
       "    </tr>\n",
       "    <tr>\n",
       "      <th>7</th>\n",
       "      <td>76561197970982479</td>\n",
       "      <td>Half-Life: Blue Shift</td>\n",
       "      <td>False</td>\n",
       "    </tr>\n",
       "    <tr>\n",
       "      <th>8</th>\n",
       "      <td>76561197970982479</td>\n",
       "      <td>Day of Defeat: Source</td>\n",
       "      <td>True</td>\n",
       "    </tr>\n",
       "    <tr>\n",
       "      <th>9</th>\n",
       "      <td>76561197970982479</td>\n",
       "      <td>Counter-Strike: Source</td>\n",
       "      <td>True</td>\n",
       "    </tr>\n",
       "  </tbody>\n",
       "</table>\n",
       "</div>"
      ],
      "text/plain": [
       "                User                       Game  Played\n",
       "0  76561197970982479             Counter-Strike    True\n",
       "1  76561197970982479      Team Fortress Classic   False\n",
       "2  76561197970982479              Day of Defeat    True\n",
       "3  76561197970982479         Deathmatch Classic   False\n",
       "4  76561197970982479  Half-Life: Opposing Force   False\n",
       "5  76561197970982479                   Ricochet   False\n",
       "6  76561197970982479                  Half-Life   False\n",
       "7  76561197970982479      Half-Life: Blue Shift   False\n",
       "8  76561197970982479      Day of Defeat: Source    True\n",
       "9  76561197970982479     Counter-Strike: Source    True"
      ]
     },
     "execution_count": 7,
     "metadata": {},
     "output_type": "execute_result"
    }
   ],
   "source": [
    "df = pd.DataFrame(features, columns = ['User', 'Game', 'Playtime(min)'])\n",
    "df = df.reset_index(drop=True)\n",
    "df['Played'] = df['Playtime(min)'] > 0\n",
    "df = df.drop('Playtime(min)', axis=1)\n",
    "df.head(10)"
   ]
  },
  {
   "cell_type": "code",
   "execution_count": 8,
   "id": "6486daad-f156-4f72-9894-0525c457d805",
   "metadata": {},
   "outputs": [
    {
     "data": {
      "text/plain": [
       "5153209"
      ]
     },
     "execution_count": 8,
     "metadata": {},
     "output_type": "execute_result"
    }
   ],
   "source": [
    "len(df)"
   ]
  },
  {
   "cell_type": "code",
   "execution_count": 9,
   "id": "0738af97-a616-4567-aea7-302b3f6d30a6",
   "metadata": {},
   "outputs": [],
   "source": [
    "#Train-validation split\n",
    "train = df.iloc[:200000]\n",
    "validation = df.iloc[200000:300000]"
   ]
  },
  {
   "cell_type": "code",
   "execution_count": 10,
   "id": "3107bff2-d5cb-44b1-9698-501ceace7aeb",
   "metadata": {},
   "outputs": [],
   "source": [
    "gameCount = defaultdict(int)\n",
    "totalPlayed = 0\n",
    "\n",
    "for x in train.itertuples():\n",
    "    gameCount[x.Game] += 1\n",
    "    totalPlayed += 1\n",
    "\n",
    "mostPopular = [(gameCount[x], x) for x in gameCount]\n",
    "mostPopular.sort()\n",
    "mostPopular.reverse()"
   ]
  },
  {
   "cell_type": "code",
   "execution_count": 11,
   "id": "a39f19a3-0e65-4791-aa56-108bdfb33584",
   "metadata": {},
   "outputs": [],
   "source": [
    "def baseline(train, valid, t=1.5):\n",
    "    return1 = set()\n",
    "    count = 0\n",
    "    for ic, i in mostPopular:\n",
    "        count += ic\n",
    "        return1.add(i)\n",
    "        if count > totalPlayed * t: break\n",
    "        \n",
    "    pred = []\n",
    "    for x in valid.itertuples():\n",
    "        if (x.Game in return1):\n",
    "            pred.append(True)\n",
    "        else:\n",
    "            pred.append(False)\n",
    "    valid['predB'] = pred\n",
    "    accuracy = (valid.predB == valid['Played']).sum()/len(valid['Played'])\n",
    "    return accuracy"
   ]
  },
  {
   "cell_type": "code",
   "execution_count": 12,
   "id": "6703a96c-b59f-44ea-8201-9786bce87ada",
   "metadata": {},
   "outputs": [
    {
     "name": "stderr",
     "output_type": "stream",
     "text": [
      "C:\\Users\\wanga\\AppData\\Local\\Temp\\ipykernel_13880\\795721309.py:15: SettingWithCopyWarning: \n",
      "A value is trying to be set on a copy of a slice from a DataFrame.\n",
      "Try using .loc[row_indexer,col_indexer] = value instead\n",
      "\n",
      "See the caveats in the documentation: https://pandas.pydata.org/pandas-docs/stable/user_guide/indexing.html#returning-a-view-versus-a-copy\n",
      "  valid['predB'] = pred\n"
     ]
    },
    {
     "data": {
      "text/plain": [
       "0.62353"
      ]
     },
     "execution_count": 12,
     "metadata": {},
     "output_type": "execute_result"
    }
   ],
   "source": [
    "baseline(train, validation, 0.6)"
   ]
  },
  {
   "cell_type": "code",
   "execution_count": 13,
   "id": "594d25ce-b12f-4b05-b5af-d82ea3abba67",
   "metadata": {},
   "outputs": [
    {
     "name": "stderr",
     "output_type": "stream",
     "text": [
      "C:\\Users\\wanga\\AppData\\Local\\Temp\\ipykernel_13880\\795721309.py:15: SettingWithCopyWarning: \n",
      "A value is trying to be set on a copy of a slice from a DataFrame.\n",
      "Try using .loc[row_indexer,col_indexer] = value instead\n",
      "\n",
      "See the caveats in the documentation: https://pandas.pydata.org/pandas-docs/stable/user_guide/indexing.html#returning-a-view-versus-a-copy\n",
      "  valid['predB'] = pred\n"
     ]
    },
    {
     "name": "stdout",
     "output_type": "stream",
     "text": [
      "Best Threshold: 0.85\n",
      "Best Accuracy: 0.66342\n"
     ]
    },
    {
     "data": {
      "image/png": "[encoded data removed]",
      "text/plain": [
       "<Figure size 432x288 with 1 Axes>"
      ]
     },
     "metadata": {
      "needs_background": "light"
     },
     "output_type": "display_data"
    }
   ],
   "source": [
    "X = [i/100 for i in range(50,105) ]\n",
    "y = []\n",
    "best_acc = 0\n",
    "for t in range(50,105):\n",
    "    acc = baseline(train,validation, (t / 100))\n",
    "    y.append(acc)\n",
    "    if acc > best_acc:\n",
    "        best_acc = acc\n",
    "        best_t = t\n",
    "\n",
    "plt.plot(X,y)\n",
    "print('Best Threshold:', best_t/100)\n",
    "print('Best Accuracy:', best_acc)\n",
    "plt.xlabel('Threshold')\n",
    "plt.ylabel('Accuracy')\n",
    "plt.title('Baseline')\n",
    "plt.show()"
   ]
  },
  {
   "cell_type": "code",
   "execution_count": 14,
   "id": "30af0412-8f5d-4ae5-a837-ed67b018163c",
   "metadata": {},
   "outputs": [],
   "source": [
    "def Jaccard(s1, s2):\n",
    "    numer = len(s1.intersection(s2))\n",
    "    denom = len(s1.union(s2))\n",
    "    if denom == 0:\n",
    "        return 0\n",
    "    return numer / denom"
   ]
  },
  {
   "cell_type": "code",
   "execution_count": 15,
   "id": "be5e6c58-24d9-41df-87c4-d234c3910284",
   "metadata": {},
   "outputs": [],
   "source": [
    "itemsPerUserTrain = defaultdict(set)\n",
    "usersPerItemTrain = defaultdict(set)\n",
    "\n",
    "for x in train.itertuples():\n",
    "    if x.Played:\n",
    "        itemsPerUserTrain[x.User].add(x.Game)\n",
    "        usersPerItemTrain[x.Game].add(x.User)"
   ]
  },
  {
   "cell_type": "code",
   "execution_count": 16,
   "id": "e5a83b9d-4a7e-46bf-a777-ca6784aa9039",
   "metadata": {},
   "outputs": [],
   "source": [
    "# Calculate similarities for everything so we don't have to calculate every time we run\n",
    "sims = defaultdict(int)\n",
    "for x in validation.itertuples():\n",
    "    for game in itemsPerUser[x.User]:\n",
    "        if x.Game == game:\n",
    "            continue\n",
    "        sim = Jaccard(usersPerItemTrain[x.Game], usersPerItemTrain[game])\n",
    "        sims[(x.User, x.Game, game)] = sim"
   ]
  },
  {
   "cell_type": "code",
   "execution_count": 17,
   "id": "ee3f000b-753f-4347-b952-47c8eba22604",
   "metadata": {},
   "outputs": [],
   "source": [
    "def jac_pred(train, valid, t=0.05):\n",
    "    pred = []\n",
    "    for x in valid.itertuples():\n",
    "        maxSim = 0\n",
    "        \n",
    "        # finding max jacc sim based on users\n",
    "        for game in itemsPerUser[x.User]:\n",
    "            sim = sims[x.User, x.Game, game]\n",
    "            if sim > maxSim:\n",
    "                maxSim = sim\n",
    "                if sim > t:\n",
    "                    break\n",
    "                    \n",
    "        if ((maxSim > t)):\n",
    "            pred.append(True)\n",
    "        else:\n",
    "            pred.append(False)\n",
    "    valid['predJ'] = pred\n",
    "    return (valid.predJ == valid.Played).sum()/len(valid.Played)"
   ]
  },
  {
   "cell_type": "code",
   "execution_count": 18,
   "id": "402bb9eb-99ba-487a-b965-d2b7bf888d5a",
   "metadata": {},
   "outputs": [
    {
     "name": "stderr",
     "output_type": "stream",
     "text": [
      "C:\\Users\\wanga\\AppData\\Local\\Temp\\ipykernel_13880\\4282658129.py:18: SettingWithCopyWarning: \n",
      "A value is trying to be set on a copy of a slice from a DataFrame.\n",
      "Try using .loc[row_indexer,col_indexer] = value instead\n",
      "\n",
      "See the caveats in the documentation: https://pandas.pydata.org/pandas-docs/stable/user_guide/indexing.html#returning-a-view-versus-a-copy\n",
      "  valid['predJ'] = pred\n"
     ]
    },
    {
     "data": {
      "text/plain": [
       "0.67612"
      ]
     },
     "execution_count": 18,
     "metadata": {},
     "output_type": "execute_result"
    }
   ],
   "source": [
    "jac_pred(train,validation)"
   ]
  },
  {
   "cell_type": "code",
   "execution_count": 19,
   "id": "3d5c4beb-bd94-4a1b-9502-3defff349f9e",
   "metadata": {},
   "outputs": [
    {
     "name": "stderr",
     "output_type": "stream",
     "text": [
      "C:\\Users\\wanga\\AppData\\Local\\Temp\\ipykernel_13880\\4282658129.py:18: SettingWithCopyWarning: \n",
      "A value is trying to be set on a copy of a slice from a DataFrame.\n",
      "Try using .loc[row_indexer,col_indexer] = value instead\n",
      "\n",
      "See the caveats in the documentation: https://pandas.pydata.org/pandas-docs/stable/user_guide/indexing.html#returning-a-view-versus-a-copy\n",
      "  valid['predJ'] = pred\n"
     ]
    },
    {
     "name": "stdout",
     "output_type": "stream",
     "text": [
      "Best Threshold: 0.09\n",
      "Best Accuracy: 0.68227\n"
     ]
    },
    {
     "data": {
      "image/png": "[encoded data removed]",
      "text/plain": [
       "<Figure size 432x288 with 1 Axes>"
      ]
     },
     "metadata": {
      "needs_background": "light"
     },
     "output_type": "display_data"
    }
   ],
   "source": [
    "X = [i/100 for i in range(1,12) ]\n",
    "y = []\n",
    "best_acc = 0\n",
    "for t in range(1,12):\n",
    "    acc = jac_pred(train,validation, (t / 100))\n",
    "    y.append(acc)\n",
    "    if acc > best_acc:\n",
    "        best_acc = acc\n",
    "        best_t = t\n",
    "\n",
    "plt.plot(X,y)\n",
    "print('Best Threshold:', best_t/100)\n",
    "print('Best Accuracy:', best_acc)\n",
    "plt.xlabel('Threshold')\n",
    "plt.ylabel('Accuracy')\n",
    "plt.title('Jaccard')\n",
    "plt.show()"
   ]
  },
  {
   "cell_type": "code",
   "execution_count": 20,
   "id": "be88423f-3e54-4ced-8a1a-453fd7d41efb",
   "metadata": {},
   "outputs": [],
   "source": [
    "def Cosine(s1, s2):\n",
    "    numer = len(s1.intersection(s2))\n",
    "    denom = math.sqrt(len(s1)) * math.sqrt(len(s2))\n",
    "    if denom == 0:\n",
    "        return 0\n",
    "    return numer / denom"
   ]
  },
  {
   "cell_type": "code",
   "execution_count": 21,
   "id": "3ad25822-6132-4e30-b21f-582d9883d779",
   "metadata": {},
   "outputs": [],
   "source": [
    "# Calculate similarities for everything so we don't have to calculate every time we run\n",
    "sims = defaultdict(int)\n",
    "for x in validation.itertuples():\n",
    "    for game in itemsPerUser[x.User]:\n",
    "        if x.Game == game:\n",
    "            continue\n",
    "        sim = Cosine(usersPerItemTrain[x.Game], usersPerItemTrain[game])\n",
    "        sims[(x.User, x.Game, game)] = sim"
   ]
  },
  {
   "cell_type": "code",
   "execution_count": 22,
   "id": "e7544552-deba-4f30-8a86-13e17cd17753",
   "metadata": {},
   "outputs": [],
   "source": [
    "def cos_pred(train, valid, t=0.05):\n",
    "    pred = []\n",
    "    for x in valid.itertuples():\n",
    "        maxSim = 0\n",
    "        \n",
    "        # finding max cos sim based on users\n",
    "        for game in itemsPerUser[x.User]:\n",
    "            sim = sims[x.User, x.Game, game]\n",
    "            if sim > maxSim:\n",
    "                maxSim = sim\n",
    "                if sim > t:\n",
    "                    break\n",
    "                    \n",
    "        if ((maxSim > t)):\n",
    "            pred.append(True)\n",
    "        else:\n",
    "            pred.append(False)\n",
    "    valid['predC'] = pred\n",
    "    return (valid.predC == valid.Played).sum()/len(valid.Played)"
   ]
  },
  {
   "cell_type": "code",
   "execution_count": 23,
   "id": "5fb2b1d6-e062-4421-9b6f-dbae216d9d8c",
   "metadata": {},
   "outputs": [
    {
     "name": "stderr",
     "output_type": "stream",
     "text": [
      "C:\\Users\\wanga\\AppData\\Local\\Temp\\ipykernel_13880\\2418308098.py:18: SettingWithCopyWarning: \n",
      "A value is trying to be set on a copy of a slice from a DataFrame.\n",
      "Try using .loc[row_indexer,col_indexer] = value instead\n",
      "\n",
      "See the caveats in the documentation: https://pandas.pydata.org/pandas-docs/stable/user_guide/indexing.html#returning-a-view-versus-a-copy\n",
      "  valid['predC'] = pred\n"
     ]
    },
    {
     "data": {
      "text/plain": [
       "0.66318"
      ]
     },
     "execution_count": 23,
     "metadata": {},
     "output_type": "execute_result"
    }
   ],
   "source": [
    "cos_pred(train,validation)"
   ]
  },
  {
   "cell_type": "code",
   "execution_count": 24,
   "id": "004abfa8-5a16-4b9e-bbf4-ea14e13eef71",
   "metadata": {},
   "outputs": [
    {
     "name": "stderr",
     "output_type": "stream",
     "text": [
      "C:\\Users\\wanga\\AppData\\Local\\Temp\\ipykernel_13880\\2418308098.py:18: SettingWithCopyWarning: \n",
      "A value is trying to be set on a copy of a slice from a DataFrame.\n",
      "Try using .loc[row_indexer,col_indexer] = value instead\n",
      "\n",
      "See the caveats in the documentation: https://pandas.pydata.org/pandas-docs/stable/user_guide/indexing.html#returning-a-view-versus-a-copy\n",
      "  valid['predC'] = pred\n"
     ]
    },
    {
     "name": "stdout",
     "output_type": "stream",
     "text": [
      "Best Threshold: 0.2\n",
      "Best Accuracy: 0.6741\n"
     ]
    },
    {
     "data": {
      "image/png": "[encoded data removed]",
      "text/plain": [
       "<Figure size 432x288 with 1 Axes>"
      ]
     },
     "metadata": {
      "needs_background": "light"
     },
     "output_type": "display_data"
    }
   ],
   "source": [
    "X = [i/100 for i in range(1,30) ]\n",
    "y = []\n",
    "best_acc = 0\n",
    "for t in range(1,30):\n",
    "    acc = cos_pred(train,validation, (t / 100))\n",
    "    y.append(acc)\n",
    "    if acc > best_acc:\n",
    "        best_acc = acc\n",
    "        best_t = t\n",
    "\n",
    "plt.plot(X,y)\n",
    "print('Best Threshold:', best_t/100)\n",
    "print('Best Accuracy:', best_acc)\n",
    "plt.xlabel('Threshold')\n",
    "plt.ylabel('Accuracy')\n",
    "plt.title('Cosine')\n",
    "plt.show()"
   ]
  },
  {
   "cell_type": "code",
   "execution_count": null,
   "id": "c91d5dc8-a5f4-4436-9b2d-164f6a8a105a",
   "metadata": {},
   "outputs": [],
   "source": []
  }
 ],
 "metadata": {
  "kernelspec": {
   "display_name": "Python 3 (ipykernel)",
   "language": "python",
   "name": "python3"
  },
  "language_info": {
   "codemirror_mode": {
    "name": "ipython",
    "version": 3
   },
   "file_extension": ".py",
   "mimetype": "text/x-python",
   "name": "python",
   "nbconvert_exporter": "python",
   "pygments_lexer": "ipython3",
   "version": "3.9.12"
  }
 },
 "nbformat": 4,
 "nbformat_minor": 5
}
